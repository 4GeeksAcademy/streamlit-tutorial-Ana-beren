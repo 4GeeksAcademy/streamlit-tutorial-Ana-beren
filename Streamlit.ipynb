{
  "nbformat": 4,
  "nbformat_minor": 0,
  "metadata": {
    "colab": {
      "provenance": [],
      "authorship_tag": "ABX9TyN6UwV/E9p0ap5BQrYxUWCM",
      "include_colab_link": true
    },
    "kernelspec": {
      "name": "python3",
      "display_name": "Python 3"
    },
    "language_info": {
      "name": "python"
    }
  },
  "cells": [
    {
      "cell_type": "markdown",
      "metadata": {
        "id": "view-in-github",
        "colab_type": "text"
      },
      "source": [
        "<a href=\"https://colab.research.google.com/github/4GeeksAcademy/streamlit-tutorial-Ana-beren/blob/main/Streamlit.ipynb\" target=\"_parent\"><img src=\"https://colab.research.google.com/assets/colab-badge.svg\" alt=\"Open In Colab\"/></a>"
      ]
    },
    {
      "cell_type": "code",
      "execution_count": null,
      "metadata": {
        "id": "BMXCJsGgPZrd"
      },
      "outputs": [],
      "source": [
        "import streamlit as st\n",
        "import joblib\n",
        "model_path = 'models/lasso_model.sav'\n",
        "from streamlit_extras.switch_page_button import switch_page\n",
        "import random\n",
        "\n",
        "def main():\n",
        "    st.title('Bienvenido al portal de Seguros \"Securitas\"')\n",
        "    st.write('**Aquí se puede calcular el precio anual de prima que se pagará**')\n",
        "\n",
        "    # Añadir un selector de fecha\n",
        "    publish_date = st.date_input(\"Quotation Date\")\n",
        "    # Diccionario para almacenar los datos de entrada\n",
        "    input_data = {}\n",
        "    # Widget de entrada numérica para cada característica\n",
        "    edad = st.number_input('Type your Age: ', min_value=0, max_value=99)\n",
        "    # Sexo\n",
        "    sexo = st.selectbox('Select your Gender: ',('Male','Female'))\n",
        "    # BMI\n",
        "    bmi = st.number_input('Insert you BMI:', format=\"%0.2f\", value=\"min\", min_value=15.0, max_value=50.00)\n",
        "    # Fumador\n",
        "    fumador = st.selectbox('Do you smoke?: ',('Yes','No'))\n",
        "    # Hijos\n",
        "    hijos = st.slider('Choose your number of children: ', min_value=0, max_value=9)\n",
        "    # Calcular precio cuando se pulsa el botón\n",
        "    if st.button(\"Calculate Price\"):\n",
        "        precio = random.randint(1000, 1500)\n",
        "        st.write(f\"el precio de tu seguro es: {precio} Euros\")\n",
        "\n",
        "\n",
        "\n",
        "def load_model(model_path):\n",
        "    try:\n",
        "        model = joblib.load(model_path)  # cargar el modelo .sav\n",
        "        return model\n",
        "    except Exception as e:\n",
        "        st.error(f\"Error loading model: {e}\")\n",
        "        return None\n",
        "\n",
        "#        with open(model_path, 'rb') as file:\n",
        "#          model = pickle.load(file)\n",
        "#        with st.spinner(\"Generando historia...\"):\n",
        "#            response = get_text_response(text_model_pro, prompt, config)\n",
        "#            st.write(response)\n",
        "\n",
        "if __name__ == \"__main__\":\n",
        "    main()\n",
        "\n",
        "# https://docs.streamlit.io/library/get-started/multipage-apps\n",
        "# Local: streamlit run streamlit_tutorial.py\n",
        "# Streamlit Sharing\n",
        "# render, heroku, AWS EC2"
      ]
    }
  ]
}